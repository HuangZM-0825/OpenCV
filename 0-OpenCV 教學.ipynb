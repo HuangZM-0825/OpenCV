{
 "cells": [
  {
   "cell_type": "markdown",
   "metadata": {},
   "source": [
    "##### OpenCV 教學\n",
    "本篇文章彙整了一系列的 Python + OpenCV 教學，只要按照教學文的順序閱讀和實作，就可以輕鬆入門 OpenCV，並透過 OpenCV 實現許多影像相關的創意應用。"
   ]
  },
  {
   "cell_type": "markdown",
   "metadata": {},
   "source": [
    "##### 認識與安裝 OpenCV \n",
    "下面這篇文章，會介紹什麼是 OpenCV，以及如何安裝 OpenCV，還有提供一個簡單的 OpenCV 範例。\n",
    "\n",
    "* [OpenCV 函式庫](https://steam.oxxostudio.tw/category/python/ai/opencv.html)"
   ]
  },
  {
   "cell_type": "markdown",
   "metadata": {},
   "source": [
    "##### 入門起手式 \n",
    "下面這幾篇文章，會開始使用 OpenCV 讀取圖片或影片、儲存圖片或影片，所介紹的功能，是所有 OpenCV 範例都會用到基本程式。\n",
    "\n",
    "* 開啟並顯示圖片\n",
    "* 寫入並儲存圖片\n",
    "* 讀取並播放影片\n",
    "* 寫入並儲存影片\n",
    "* 取得影像資訊"
   ]
  },
  {
   "cell_type": "markdown",
   "metadata": {},
   "source": [
    "##### 影像色彩相關 \n",
    "下面這幾篇文章，會介紹影像的色彩，以及如何透過 OpenCV 處理影像的色彩。\n",
    "\n",
    "* 影像的色彩轉換\n",
    "* 二值化黑白影像\n",
    "* 調整影像的對比和亮度\n",
    "* 影像的負片效果\n",
    "* 影像的疊加與相減\n",
    "* 線性漸層填色\n",
    "* 將指定的顏色變透明\n",
    "* 魔術棒填充顏色"
   ]
  },
  {
   "cell_type": "markdown",
   "metadata": {},
   "source": [
    "##### 影像的剪裁、變形、文字、繪圖 \n",
    "下面這幾篇文章，會介紹如何透過 OpenCV 剪裁影像、將影像變形、以及在影像中繪圖或加入文字。\n",
    "\n",
    "* 影像的旋轉、翻轉和改變尺寸\n",
    "* 影像的幾何變形\n",
    "* 剪裁影像\n",
    "* 繪製各種形狀\n",
    "* 影像加入文字"
   ]
  },
  {
   "cell_type": "markdown",
   "metadata": {},
   "source": [
    "##### 影像效果 \n",
    "下面這幾篇文章，會透過 OpenCV 的功能，實作出一些有趣的影像效果，例如模糊化、馬賽克、子母畫面...等。\n",
    "\n",
    "* 影像模糊化\n",
    "* 影像的馬賽克效果\n",
    "* 子母畫面影片\n",
    "* 萬花筒影片效果\n",
    "* 多畫面延遲播放影片\n",
    "* 搞笑全景影片合成效果\n",
    "* 凸透鏡效果 ( 魚眼效果 )"
   ]
  },
  {
   "cell_type": "markdown",
   "metadata": {},
   "source": [
    "##### 影像進階處理 \n",
    "下面這幾篇文章，屬於比較進階的 OpenCV 影像處理功能，例如邊緣偵測、遮罩、透明色彩處理...等。\n",
    "\n",
    "* 影像邊緣偵測\n",
    "* 影像的侵蝕與膨脹\n",
    "* 影像遮罩\n",
    "* 邊緣羽化效果 ( 邊緣模糊化 )\n",
    "* 合成半透明圖片\n",
    "* 處理 gif 動畫\n",
    "* 影片轉透明背景 gif 動畫\n",
    "* 辨識 QRCode 和 BarCode\n",
    "* 掃描 QRCode 切換效果\n",
    "* 倒數計時自動拍照效果"
   ]
  },
  {
   "cell_type": "markdown",
   "metadata": {},
   "source": [
    "##### 偵測滑鼠和鍵盤 \n",
    "下面這幾篇文章，會介紹如何在 OpenCV 開啟的視窗中，偵測滑鼠與鍵盤事件，透過滑鼠和鍵盤和影像進行互動。\n",
    "\n",
    "* 偵測滑鼠事件\n",
    "* 滑鼠選取區域自動馬賽克\n",
    "* 在影片中即時繪圖\n",
    "* 偵測鍵盤行為\n",
    "* 加入滑桿 ( Trackbar )"
   ]
  }
 ],
 "metadata": {
  "language_info": {
   "name": "python"
  }
 },
 "nbformat": 4,
 "nbformat_minor": 2
}
